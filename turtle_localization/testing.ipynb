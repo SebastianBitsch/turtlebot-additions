{
 "cells": [
  {
   "cell_type": "code",
   "execution_count": 354,
   "metadata": {},
   "outputs": [],
   "source": [
    "import numpy as np\n",
    "import matplotlib.pyplot as plt"
   ]
  },
  {
   "cell_type": "code",
   "execution_count": 455,
   "metadata": {},
   "outputs": [],
   "source": [
    "def weighted_average(values: np.ndarray, weights: np.ndarray = None) -> np.ndarray:\n",
    "    \"\"\" Get the centre of mass for a set of values, \"\"\"\n",
    "    assert weights is None or values.shape[0] == weights.shape[0]\n",
    "    return np.average(values, weights=weights, axis=0)\n",
    "\n",
    "def compute_transformation_params(x: np.ndarray, y: np.ndarray, p: np.ndarray = None) -> tuple[np.ndarray, np.ndarray]:\n",
    "    \"\"\"\n",
    "    Perform a single step of ICP where perfect corresponence is assumed. \n",
    "    Returns a rotation matrix and translation vector.\n",
    "    \"\"\"\n",
    "    assert x.shape == y.shape\n",
    "    if p is None:\n",
    "        p = np.ones(len(x))\n",
    "    # Get the centres of mass\n",
    "    x_0 = weighted_average(x, p)\n",
    "    y_0 = weighted_average(y, p)\n",
    "\n",
    "    # Calculate cross covariance matrix\n",
    "    H = (y_0 - y).T @ ((x_0 - x) * p[:, None])\n",
    "\n",
    "    # Do SVD\n",
    "    U, _S, Vh = np.linalg.svd(H)    \n",
    "\n",
    "    # Calculate rotation matrix and translation vector\n",
    "    R = Vh.T @ U.T\n",
    "    t = y_0 - R @ x_0\n",
    "\n",
    "    return R, t"
   ]
  },
  {
   "cell_type": "code",
   "execution_count": 370,
   "metadata": {},
   "outputs": [
    {
     "name": "stdout",
     "output_type": "stream",
     "text": [
      "[[-0.33333333  0.66666667  0.66666667]\n",
      " [ 0.66666667 -0.33333333  0.66666667]\n",
      " [ 0.66666667  0.66666667 -0.33333333]] [ 1.00000000e+00 -1.33226763e-15  0.00000000e+00]\n"
     ]
    },
    {
     "data": {
      "image/png": "[encoded data removed]",
      "text/plain": [
       "<Figure size 432x288 with 1 Axes>"
      ]
     },
     "metadata": {
      "needs_background": "light"
     },
     "output_type": "display_data"
    }
   ],
   "source": [
    "x = np.array([[1, 1, 1], [2, 2, 2], [3, 3, 3], [4, 4, 4]])\n",
    "y = np.array([[2, 1, 1], [3, 2, 2], [4, 3, 3], [5, 4, 4]])\n",
    "\n",
    "R, t = compute_transformation_params(x,y)\n",
    "print(R,t)\n",
    "x_tilde = (R @ x.T).T + t\n",
    "\n",
    "plt.scatter(x[:, 0], x[:, 1], label='x')\n",
    "plt.scatter(y[:, 0], y[:, 1], label ='y', alpha=0.3)\n",
    "plt.scatter(x_tilde[:, 0], x_tilde[:, 1], label=\"x_tilde\", alpha=0.3)\n",
    "plt.legend()\n",
    "plt.show()"
   ]
  },
  {
   "cell_type": "code",
   "execution_count": null,
   "metadata": {},
   "outputs": [],
   "source": [
    "import numpy as np\n",
    "\n",
    "def Exp(axis, angle):\n",
    "    \"\"\"\n",
    "    Compute a rotation matrix from an axis-angle representation.\n",
    "\n",
    "    Parameters:\n",
    "        axis: A 3-element array representing the axis of rotation.\n",
    "        angle: The angle of rotation in radians.\n",
    "\n",
    "    Returns:\n",
    "        A 3x3 rotation matrix representing the rotation.\n",
    "    \"\"\"\n",
    "    # Normalize the axis vector\n",
    "    axis = axis / np.linalg.norm(axis)\n",
    "\n",
    "    # Compute the components of the rotation matrix\n",
    "    c = np.cos(angle)\n",
    "    s = np.sin(angle)\n",
    "    t = 1 - c\n",
    "    x, y, z = axis\n",
    "\n",
    "    # Compute the rotation matrix\n",
    "    R = np.array([[t*x*x + c,    t*x*y - s*z,  t*x*z + s*y],\n",
    "                  [t*x*y + s*z,  t*y*y + c,    t*y*z - s*x],\n",
    "                  [t*x*z - s*y,  t*y*z + s*x,  t*z*z + c]])\n",
    "\n",
    "    return R"
   ]
  },
  {
   "cell_type": "code",
   "execution_count": null,
   "metadata": {},
   "outputs": [],
   "source": [
    "def plain_point_to_point_icp(x: np.ndarray, y: np.ndarray, max_iterations: int = 100, tolerance: float = 1e-5) -> tuple[np.ndarray, np.ndarray]:\n",
    "    # Initialize transformation parameters\n",
    "    R = np.eye(3)  # Identity matrix\n",
    "    t = np.zeros(3)  # Zero translation vector\n",
    "\n",
    "    # Iterative loop\n",
    "    for _ in range(max_iterations):\n",
    "        # Correspondence: Find the closest point pairs\n",
    "        distances = np.linalg.norm(y[:, None, :] - (R @ x.T)[:, :, None] - t[:, None], axis=0)\n",
    "        closest_indices = np.argmin(distances, axis=1)\n",
    "\n",
    "        # Weighting: Here, you might calculate weights based on distances\n",
    "        \n",
    "        # Estimation: Compute transformation parameters\n",
    "        R_new, t_new = compute_transformation_params(x, y[closest_indices], weights=None)  # You can pass weights here\n",
    "\n",
    "        # Transform: Apply the estimated transformation to the moving point cloud\n",
    "        x_transformed = R_new @ x.T + t_new[:, None]\n",
    "\n",
    "        # Convergence check\n",
    "        if np.allclose(R, R_new) and np.allclose(t, t_new, atol=tolerance):\n",
    "            break\n",
    "\n",
    "        # Update transformation parameters\n",
    "        R = R_new\n",
    "        t = t_new\n",
    "\n",
    "    return R, t\n"
   ]
  },
  {
   "cell_type": "markdown",
   "metadata": {},
   "source": [
    "# Test polar2rectangular"
   ]
  },
  {
   "cell_type": "code",
   "execution_count": 384,
   "metadata": {},
   "outputs": [
    {
     "name": "stdout",
     "output_type": "stream",
     "text": [
      "360\n"
     ]
    }
   ],
   "source": [
    "\n",
    "angle_min = 0 # rad\n",
    "angle_max = 2 * 3.14 # rad\n",
    "angle_increment = angle_max / 360 # rad\n",
    "ranges = np.arange(0,360)#np.random.randint(low = 0, high = 256, size = int((angle_max - angle_min) / angle_increment))\n",
    "print(len(ranges))"
   ]
  },
  {
   "cell_type": "code",
   "execution_count": 385,
   "metadata": {},
   "outputs": [],
   "source": [
    "angles = np.arange(angle_min, angle_max, step = angle_increment)"
   ]
  },
  {
   "cell_type": "code",
   "execution_count": 409,
   "metadata": {},
   "outputs": [
    {
     "data": {
      "text/plain": [
       "(360, 3)"
      ]
     },
     "execution_count": 409,
     "metadata": {},
     "output_type": "execute_result"
    }
   ],
   "source": [
    "x = ranges * np.cos(angles)\n",
    "y = ranges * np.sin(angles)\n",
    "z = np.zeros(len(ranges))\n",
    "\n",
    "# \"rotate\" by -90 degrees to get 0 degrees to be forwards\n",
    "# replace x=-y with x=y to flip around x axis, i.e. scan direction clockwise\n",
    "# can be seen in the header of the scan\n",
    "temp = x\n",
    "x = -y\n",
    "y = temp\n",
    "\n",
    "coords = np.vstack([x,y,z]).T\n",
    "coords.shape"
   ]
  },
  {
   "cell_type": "code",
   "execution_count": 407,
   "metadata": {},
   "outputs": [
    {
     "data": {
      "image/png": "[encoded data removed]",
      "text/plain": [
       "<Figure size 432x288 with 1 Axes>"
      ]
     },
     "metadata": {
      "needs_background": "light"
     },
     "output_type": "display_data"
    }
   ],
   "source": [
    "plt.scatter(coords[:,0], coords[:,1])\n",
    "plt.show()"
   ]
  },
  {
   "cell_type": "code",
   "execution_count": 413,
   "metadata": {},
   "outputs": [
    {
     "ename": "ValueError",
     "evalue": "operands could not be broadcast together with shapes (360,1,3) (3,360,1) ",
     "output_type": "error",
     "traceback": [
      "\u001b[0;31m---------------------------------------------------------------------------\u001b[0m",
      "\u001b[0;31mValueError\u001b[0m                                Traceback (most recent call last)",
      "\u001b[0;32m/var/folders/kg/87d0nmxn11xbzs39mwh7hjvr0000gn/T/ipykernel_18106/1638066437.py\u001b[0m in \u001b[0;36m<module>\u001b[0;34m\u001b[0m\n\u001b[1;32m     13\u001b[0m     \u001b[0;31m# Correspondence: Find the closest point pairs\u001b[0m\u001b[0;34m\u001b[0m\u001b[0;34m\u001b[0m\u001b[0m\n\u001b[1;32m     14\u001b[0m     \u001b[0;31m# distances = np.linalg.norm(y[:, None, :] - (R @ x.T)[:, :, None] - t[:, None], axis=0)\u001b[0m\u001b[0;34m\u001b[0m\u001b[0;34m\u001b[0m\u001b[0m\n\u001b[0;32m---> 15\u001b[0;31m     \u001b[0mdistances\u001b[0m \u001b[0;34m=\u001b[0m \u001b[0mnp\u001b[0m\u001b[0;34m.\u001b[0m\u001b[0mlinalg\u001b[0m\u001b[0;34m.\u001b[0m\u001b[0mnorm\u001b[0m\u001b[0;34m(\u001b[0m\u001b[0my\u001b[0m\u001b[0;34m[\u001b[0m\u001b[0;34m:\u001b[0m\u001b[0;34m,\u001b[0m \u001b[0;32mNone\u001b[0m\u001b[0;34m]\u001b[0m \u001b[0;34m-\u001b[0m \u001b[0;34m(\u001b[0m\u001b[0mR\u001b[0m \u001b[0;34m@\u001b[0m \u001b[0mx\u001b[0m\u001b[0;34m.\u001b[0m\u001b[0mT\u001b[0m\u001b[0;34m)\u001b[0m\u001b[0;34m[\u001b[0m\u001b[0;34m:\u001b[0m\u001b[0;34m,\u001b[0m \u001b[0;34m:\u001b[0m\u001b[0;34m,\u001b[0m \u001b[0;32mNone\u001b[0m\u001b[0;34m]\u001b[0m \u001b[0;34m-\u001b[0m \u001b[0mt\u001b[0m\u001b[0;34m[\u001b[0m\u001b[0;34m:\u001b[0m\u001b[0;34m,\u001b[0m \u001b[0;32mNone\u001b[0m\u001b[0;34m,\u001b[0m \u001b[0;34m:\u001b[0m\u001b[0;34m]\u001b[0m\u001b[0;34m,\u001b[0m \u001b[0maxis\u001b[0m\u001b[0;34m=\u001b[0m\u001b[0;36m0\u001b[0m\u001b[0;34m)\u001b[0m\u001b[0;34m\u001b[0m\u001b[0;34m\u001b[0m\u001b[0m\n\u001b[0m\u001b[1;32m     16\u001b[0m     \u001b[0mclosest_indices\u001b[0m \u001b[0;34m=\u001b[0m \u001b[0mnp\u001b[0m\u001b[0;34m.\u001b[0m\u001b[0margmin\u001b[0m\u001b[0;34m(\u001b[0m\u001b[0mdistances\u001b[0m\u001b[0;34m,\u001b[0m \u001b[0maxis\u001b[0m\u001b[0;34m=\u001b[0m\u001b[0;36m1\u001b[0m\u001b[0;34m)\u001b[0m\u001b[0;34m\u001b[0m\u001b[0;34m\u001b[0m\u001b[0m\n\u001b[1;32m     17\u001b[0m \u001b[0;34m\u001b[0m\u001b[0m\n",
      "\u001b[0;31mValueError\u001b[0m: operands could not be broadcast together with shapes (360,1,3) (3,360,1) "
     ]
    }
   ],
   "source": [
    "\n",
    "# Initialize transformation parameters\n",
    "R = np.eye(3)  # Identity matrix\n",
    "t = np.zeros(3)  # Zero translation vector\n",
    "\n",
    "# Iterative loop\n",
    "max_iterations = 1\n",
    "tolerance = 1.0\n",
    "\n",
    "for _ in range(max_iterations):\n",
    "    # Correspondence: Find the closest point pairs\n",
    "    distances = np.linalg.norm(y[:, None, :] - (R @ x.T)[:, :, None] - t[:, None], axis=0)\n",
    "    closest_indices = np.argmin(distances, axis=1)\n",
    "\n",
    "    # Weighting: Here, you might calculate weights based on distances\n",
    "    \n",
    "    # Estimation: Compute transformation parameters\n",
    "    R_new, t_new = compute_transformation_params(x, y[closest_indices], weights=None)  # You can pass weights here\n",
    "\n",
    "    # Transform: Apply the estimated transformation to the moving point cloud\n",
    "    x_transformed = R_new @ x.T + t_new[:, None]\n",
    "\n",
    "    # Convergence check\n",
    "    if np.allclose(R, R_new) and np.allclose(t, t_new, atol=tolerance):\n",
    "        break\n",
    "\n",
    "    # Update transformation parameters\n",
    "    R = R_new\n",
    "    t = t_new\n",
    "\n"
   ]
  },
  {
   "cell_type": "code",
   "execution_count": 414,
   "metadata": {},
   "outputs": [],
   "source": [
    "from sklearn.neighbors import NearestNeighbors"
   ]
  },
  {
   "cell_type": "code",
   "execution_count": 434,
   "metadata": {},
   "outputs": [],
   "source": [
    "x = coords\n",
    "y = coords.copy()\n",
    "y[:,0] += 30\n",
    "y[:,1] += 10\n"
   ]
  },
  {
   "cell_type": "code",
   "execution_count": 493,
   "metadata": {},
   "outputs": [
    {
     "data": {
      "text/plain": [
       "(360, 3)"
      ]
     },
     "execution_count": 493,
     "metadata": {},
     "output_type": "execute_result"
    }
   ],
   "source": [
    "y.shape"
   ]
  },
  {
   "cell_type": "code",
   "execution_count": 514,
   "metadata": {},
   "outputs": [
    {
     "data": {
      "text/plain": [
       "array([[ 0.09359745, -0.53916391, -1.4373956 ],\n",
       "       [ 0.18793739, -0.45045446, -0.51687823],\n",
       "       [-0.09563567,  0.3164238 ,  0.60333466],\n",
       "       [-1.49459146, -0.11089408,  0.2412894 ],\n",
       "       [-0.58264511, -0.24111265,  0.23636054],\n",
       "       [ 0.12472073,  1.04632598, -0.27309186],\n",
       "       [-0.53483402, -0.3065633 , -0.16224266]])"
      ]
     },
     "execution_count": 514,
     "metadata": {},
     "output_type": "execute_result"
    }
   ],
   "source": [
    "a = np.random.randn(10,3)\n",
    "a[:3,:2] = np.inf\n",
    "a[np.all(a[:,] < np.inf,axis=1),:]"
   ]
  },
  {
   "cell_type": "code",
   "execution_count": 492,
   "metadata": {},
   "outputs": [
    {
     "ename": "ValueError",
     "evalue": "Found array with 0 feature(s) (shape=(360, 0)) while a minimum of 1 is required by NearestNeighbors.",
     "output_type": "error",
     "traceback": [
      "\u001b[0;31m---------------------------------------------------------------------------\u001b[0m",
      "\u001b[0;31mValueError\u001b[0m                                Traceback (most recent call last)",
      "\u001b[0;32m/var/folders/kg/87d0nmxn11xbzs39mwh7hjvr0000gn/T/ipykernel_18106/539543328.py\u001b[0m in \u001b[0;36m<module>\u001b[0;34m\u001b[0m\n\u001b[0;32m----> 1\u001b[0;31m \u001b[0mnbrs\u001b[0m \u001b[0;34m=\u001b[0m \u001b[0mNearestNeighbors\u001b[0m\u001b[0;34m(\u001b[0m\u001b[0mn_neighbors\u001b[0m\u001b[0;34m=\u001b[0m\u001b[0;36m1\u001b[0m\u001b[0;34m,\u001b[0m \u001b[0malgorithm\u001b[0m\u001b[0;34m=\u001b[0m\u001b[0;34m'kd_tree'\u001b[0m\u001b[0;34m)\u001b[0m\u001b[0;34m.\u001b[0m\u001b[0mfit\u001b[0m\u001b[0;34m(\u001b[0m\u001b[0mnp\u001b[0m\u001b[0;34m.\u001b[0m\u001b[0mrandom\u001b[0m\u001b[0;34m.\u001b[0m\u001b[0mrandn\u001b[0m\u001b[0;34m(\u001b[0m\u001b[0;36m360\u001b[0m\u001b[0;34m,\u001b[0m\u001b[0;36m0\u001b[0m\u001b[0;34m)\u001b[0m\u001b[0;34m)\u001b[0m\u001b[0;34m\u001b[0m\u001b[0;34m\u001b[0m\u001b[0m\n\u001b[0m",
      "\u001b[0;32m~/opt/anaconda3/lib/python3.9/site-packages/sklearn/base.py\u001b[0m in \u001b[0;36mwrapper\u001b[0;34m(estimator, *args, **kwargs)\u001b[0m\n\u001b[1;32m   1150\u001b[0m                 )\n\u001b[1;32m   1151\u001b[0m             ):\n\u001b[0;32m-> 1152\u001b[0;31m                 \u001b[0;32mreturn\u001b[0m \u001b[0mfit_method\u001b[0m\u001b[0;34m(\u001b[0m\u001b[0mestimator\u001b[0m\u001b[0;34m,\u001b[0m \u001b[0;34m*\u001b[0m\u001b[0margs\u001b[0m\u001b[0;34m,\u001b[0m \u001b[0;34m**\u001b[0m\u001b[0mkwargs\u001b[0m\u001b[0;34m)\u001b[0m\u001b[0;34m\u001b[0m\u001b[0;34m\u001b[0m\u001b[0m\n\u001b[0m\u001b[1;32m   1153\u001b[0m \u001b[0;34m\u001b[0m\u001b[0m\n\u001b[1;32m   1154\u001b[0m         \u001b[0;32mreturn\u001b[0m \u001b[0mwrapper\u001b[0m\u001b[0;34m\u001b[0m\u001b[0;34m\u001b[0m\u001b[0m\n",
      "\u001b[0;32m~/opt/anaconda3/lib/python3.9/site-packages/sklearn/neighbors/_unsupervised.py\u001b[0m in \u001b[0;36mfit\u001b[0;34m(self, X, y)\u001b[0m\n\u001b[1;32m    173\u001b[0m             \u001b[0mThe\u001b[0m \u001b[0mfitted\u001b[0m \u001b[0mnearest\u001b[0m \u001b[0mneighbors\u001b[0m \u001b[0mestimator\u001b[0m\u001b[0;34m.\u001b[0m\u001b[0;34m\u001b[0m\u001b[0;34m\u001b[0m\u001b[0m\n\u001b[1;32m    174\u001b[0m         \"\"\"\n\u001b[0;32m--> 175\u001b[0;31m         \u001b[0;32mreturn\u001b[0m \u001b[0mself\u001b[0m\u001b[0;34m.\u001b[0m\u001b[0m_fit\u001b[0m\u001b[0;34m(\u001b[0m\u001b[0mX\u001b[0m\u001b[0;34m)\u001b[0m\u001b[0;34m\u001b[0m\u001b[0;34m\u001b[0m\u001b[0m\n\u001b[0m",
      "\u001b[0;32m~/opt/anaconda3/lib/python3.9/site-packages/sklearn/neighbors/_base.py\u001b[0m in \u001b[0;36m_fit\u001b[0;34m(self, X, y)\u001b[0m\n\u001b[1;32m    496\u001b[0m         \u001b[0;32melse\u001b[0m\u001b[0;34m:\u001b[0m\u001b[0;34m\u001b[0m\u001b[0;34m\u001b[0m\u001b[0m\n\u001b[1;32m    497\u001b[0m             \u001b[0;32mif\u001b[0m \u001b[0;32mnot\u001b[0m \u001b[0misinstance\u001b[0m\u001b[0;34m(\u001b[0m\u001b[0mX\u001b[0m\u001b[0;34m,\u001b[0m \u001b[0;34m(\u001b[0m\u001b[0mKDTree\u001b[0m\u001b[0;34m,\u001b[0m \u001b[0mBallTree\u001b[0m\u001b[0;34m,\u001b[0m \u001b[0mNeighborsBase\u001b[0m\u001b[0;34m)\u001b[0m\u001b[0;34m)\u001b[0m\u001b[0;34m:\u001b[0m\u001b[0;34m\u001b[0m\u001b[0;34m\u001b[0m\u001b[0m\n\u001b[0;32m--> 498\u001b[0;31m                 \u001b[0mX\u001b[0m \u001b[0;34m=\u001b[0m \u001b[0mself\u001b[0m\u001b[0;34m.\u001b[0m\u001b[0m_validate_data\u001b[0m\u001b[0;34m(\u001b[0m\u001b[0mX\u001b[0m\u001b[0;34m,\u001b[0m \u001b[0maccept_sparse\u001b[0m\u001b[0;34m=\u001b[0m\u001b[0;34m\"csr\"\u001b[0m\u001b[0;34m,\u001b[0m \u001b[0morder\u001b[0m\u001b[0;34m=\u001b[0m\u001b[0;34m\"C\"\u001b[0m\u001b[0;34m)\u001b[0m\u001b[0;34m\u001b[0m\u001b[0;34m\u001b[0m\u001b[0m\n\u001b[0m\u001b[1;32m    499\u001b[0m \u001b[0;34m\u001b[0m\u001b[0m\n\u001b[1;32m    500\u001b[0m         \u001b[0mself\u001b[0m\u001b[0;34m.\u001b[0m\u001b[0m_check_algorithm_metric\u001b[0m\u001b[0;34m(\u001b[0m\u001b[0;34m)\u001b[0m\u001b[0;34m\u001b[0m\u001b[0;34m\u001b[0m\u001b[0m\n",
      "\u001b[0;32m~/opt/anaconda3/lib/python3.9/site-packages/sklearn/base.py\u001b[0m in \u001b[0;36m_validate_data\u001b[0;34m(self, X, y, reset, validate_separately, cast_to_ndarray, **check_params)\u001b[0m\n\u001b[1;32m    603\u001b[0m                 \u001b[0mout\u001b[0m \u001b[0;34m=\u001b[0m \u001b[0mX\u001b[0m\u001b[0;34m,\u001b[0m \u001b[0my\u001b[0m\u001b[0;34m\u001b[0m\u001b[0;34m\u001b[0m\u001b[0m\n\u001b[1;32m    604\u001b[0m         \u001b[0;32melif\u001b[0m \u001b[0;32mnot\u001b[0m \u001b[0mno_val_X\u001b[0m \u001b[0;32mand\u001b[0m \u001b[0mno_val_y\u001b[0m\u001b[0;34m:\u001b[0m\u001b[0;34m\u001b[0m\u001b[0;34m\u001b[0m\u001b[0m\n\u001b[0;32m--> 605\u001b[0;31m             \u001b[0mout\u001b[0m \u001b[0;34m=\u001b[0m \u001b[0mcheck_array\u001b[0m\u001b[0;34m(\u001b[0m\u001b[0mX\u001b[0m\u001b[0;34m,\u001b[0m \u001b[0minput_name\u001b[0m\u001b[0;34m=\u001b[0m\u001b[0;34m\"X\"\u001b[0m\u001b[0;34m,\u001b[0m \u001b[0;34m**\u001b[0m\u001b[0mcheck_params\u001b[0m\u001b[0;34m)\u001b[0m\u001b[0;34m\u001b[0m\u001b[0;34m\u001b[0m\u001b[0m\n\u001b[0m\u001b[1;32m    606\u001b[0m         \u001b[0;32melif\u001b[0m \u001b[0mno_val_X\u001b[0m \u001b[0;32mand\u001b[0m \u001b[0;32mnot\u001b[0m \u001b[0mno_val_y\u001b[0m\u001b[0;34m:\u001b[0m\u001b[0;34m\u001b[0m\u001b[0;34m\u001b[0m\u001b[0m\n\u001b[1;32m    607\u001b[0m             \u001b[0mout\u001b[0m \u001b[0;34m=\u001b[0m \u001b[0m_check_y\u001b[0m\u001b[0;34m(\u001b[0m\u001b[0my\u001b[0m\u001b[0;34m,\u001b[0m \u001b[0;34m**\u001b[0m\u001b[0mcheck_params\u001b[0m\u001b[0;34m)\u001b[0m\u001b[0;34m\u001b[0m\u001b[0;34m\u001b[0m\u001b[0m\n",
      "\u001b[0;32m~/opt/anaconda3/lib/python3.9/site-packages/sklearn/utils/validation.py\u001b[0m in \u001b[0;36mcheck_array\u001b[0;34m(array, accept_sparse, accept_large_sparse, dtype, order, copy, force_all_finite, ensure_2d, allow_nd, ensure_min_samples, ensure_min_features, estimator, input_name)\u001b[0m\n\u001b[1;32m    974\u001b[0m         \u001b[0mn_features\u001b[0m \u001b[0;34m=\u001b[0m \u001b[0marray\u001b[0m\u001b[0;34m.\u001b[0m\u001b[0mshape\u001b[0m\u001b[0;34m[\u001b[0m\u001b[0;36m1\u001b[0m\u001b[0;34m]\u001b[0m\u001b[0;34m\u001b[0m\u001b[0;34m\u001b[0m\u001b[0m\n\u001b[1;32m    975\u001b[0m         \u001b[0;32mif\u001b[0m \u001b[0mn_features\u001b[0m \u001b[0;34m<\u001b[0m \u001b[0mensure_min_features\u001b[0m\u001b[0;34m:\u001b[0m\u001b[0;34m\u001b[0m\u001b[0;34m\u001b[0m\u001b[0m\n\u001b[0;32m--> 976\u001b[0;31m             raise ValueError(\n\u001b[0m\u001b[1;32m    977\u001b[0m                 \u001b[0;34m\"Found array with %d feature(s) (shape=%s) while\"\u001b[0m\u001b[0;34m\u001b[0m\u001b[0;34m\u001b[0m\u001b[0m\n\u001b[1;32m    978\u001b[0m                 \u001b[0;34m\" a minimum of %d is required%s.\"\u001b[0m\u001b[0;34m\u001b[0m\u001b[0;34m\u001b[0m\u001b[0m\n",
      "\u001b[0;31mValueError\u001b[0m: Found array with 0 feature(s) (shape=(360, 0)) while a minimum of 1 is required by NearestNeighbors."
     ]
    }
   ],
   "source": [
    "nbrs = NearestNeighbors(n_neighbors=1, algorithm='kd_tree').fit(np.random.randn(360,0))"
   ]
  },
  {
   "cell_type": "code",
   "execution_count": 436,
   "metadata": {},
   "outputs": [],
   "source": [
    "\n",
    "distance_threshold = 40\n",
    "closest_point_pairs = []  # list of point correspondences for closest point rule\n",
    "\n",
    "distances, indices = nbrs.kneighbors(x)\n",
    "for nn_index in range(len(distances)):\n",
    "    if distances[nn_index][0] < distance_threshold:\n",
    "        closest_point_pairs.append((x[nn_index], y[indices[nn_index][0]]))\n"
   ]
  },
  {
   "cell_type": "code",
   "execution_count": 438,
   "metadata": {},
   "outputs": [
    {
     "data": {
      "text/plain": [
       "(360, 2, 3)"
      ]
     },
     "execution_count": 438,
     "metadata": {},
     "output_type": "execute_result"
    }
   ],
   "source": [
    "np.array(closest_point_pairs).shape"
   ]
  },
  {
   "cell_type": "code",
   "execution_count": 456,
   "metadata": {},
   "outputs": [
    {
     "data": {
      "text/plain": [
       "(array([[ 0.99993044, -0.01179495,  0.        ],\n",
       "        [ 0.01179495,  0.99993044,  0.        ],\n",
       "        [ 0.        ,  0.        ,  1.        ]]),\n",
       " array([15.309724  ,  5.66237311,  0.        ]))"
      ]
     },
     "execution_count": 456,
     "metadata": {},
     "output_type": "execute_result"
    }
   ],
   "source": [
    "compute_transformation_params(np.array(closest_point_pairs)[:,0,:], np.array(closest_point_pairs)[:,1,:])"
   ]
  },
  {
   "cell_type": "code",
   "execution_count": 439,
   "metadata": {},
   "outputs": [
    {
     "data": {
      "image/png": "[encoded data removed]",
      "text/plain": [
       "<Figure size 432x288 with 1 Axes>"
      ]
     },
     "metadata": {
      "needs_background": "light"
     },
     "output_type": "display_data"
    }
   ],
   "source": [
    "import matplotlib.pyplot as plt\n",
    "\n",
    "def plot_points_with_lines(data):\n",
    "    fig, ax = plt.subplots()\n",
    "    \n",
    "    # Plot points for the first set\n",
    "    ax.plot(data[:, 0, 0], data[:, 0, 1], 'bo', label='Set 1')\n",
    "    \n",
    "    # Plot points for the second set\n",
    "    ax.plot(data[:, 1, 0], data[:, 1, 1], 'ro', label='Set 2')\n",
    "    \n",
    "    # Plot lines between corresponding points\n",
    "    for i in range(len(data)):\n",
    "        ax.plot([data[i, 0, 0], data[i, 1, 0]], [data[i, 0, 1], data[i, 1, 1]], 'k-')\n",
    "    \n",
    "    ax.set_aspect('equal')\n",
    "    ax.legend()\n",
    "    plt.xlabel('X')\n",
    "    plt.ylabel('Y')\n",
    "    plt.title('Points with Lines')\n",
    "    plt.grid(True)\n",
    "    plt.show()\n",
    "\n",
    "# Example data\n",
    "import numpy as np\n",
    "data = np.array(closest_point_pairs)\n",
    "\n",
    "# Plotting\n",
    "plot_points_with_lines(data)\n"
   ]
  },
  {
   "cell_type": "code",
   "execution_count": 451,
   "metadata": {},
   "outputs": [],
   "source": [
    "from scipy.optimize import linear_sum_assignment"
   ]
  },
  {
   "cell_type": "code",
   "execution_count": 453,
   "metadata": {},
   "outputs": [
    {
     "data": {
      "text/plain": [
       "array([0])"
      ]
     },
     "execution_count": 453,
     "metadata": {},
     "output_type": "execute_result"
    }
   ],
   "source": [
    "_, closest_indices = linear_sum_assignment(distances)\n"
   ]
  },
  {
   "cell_type": "code",
   "execution_count": 459,
   "metadata": {},
   "outputs": [
    {
     "data": {
      "text/plain": [
       "(360, 3)"
      ]
     },
     "execution_count": 459,
     "metadata": {},
     "output_type": "execute_result"
    }
   ],
   "source": [
    "(R @ x.T + t[:, None]).T.shape"
   ]
  }
 ],
 "metadata": {
  "kernelspec": {
   "display_name": "ros_env",
   "language": "python",
   "name": "python3"
  },
  "language_info": {
   "codemirror_mode": {
    "name": "ipython",
    "version": 3
   },
   "file_extension": ".py",
   "mimetype": "text/x-python",
   "name": "python",
   "nbconvert_exporter": "python",
   "pygments_lexer": "ipython3",
   "version": "3.9.7"
  }
 },
 "nbformat": 4,
 "nbformat_minor": 2
}
