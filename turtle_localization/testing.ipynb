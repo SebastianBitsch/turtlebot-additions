{
 "cells": [
  {
   "cell_type": "code",
   "execution_count": 354,
   "metadata": {},
   "outputs": [],
   "source": [
    "import numpy as np\n",
    "import matplotlib.pyplot as plt"
   ]
  },
  {
   "cell_type": "code",
   "execution_count": 365,
   "metadata": {},
   "outputs": [],
   "source": [
    "def weighted_average(values: np.ndarray, weights: np.ndarray = None) -> np.ndarray:\n",
    "    \"\"\" Get the centre of mass for a set of values, \"\"\"\n",
    "    assert weights is None or values.shape[0] == weights.shape[0]\n",
    "    return np.average(values, weights=weights, axis=0)\n",
    "\n",
    "def compute_transformation_params(x: np.ndarray, y: np.ndarray, p: np.ndarray = None) -> tuple[np.ndarray, np.ndarray]:\n",
    "    \"\"\"\n",
    "    Perform a single step of ICP where perfect corresponence is assumed. \n",
    "    Returns a rotation matrix and translation vector.\n",
    "    \"\"\"\n",
    "    assert x.shape == y.shape\n",
    "    if p is None:\n",
    "        p = np.ones(len(x))\n",
    "    # Get the centres of mass\n",
    "    x_0 = weighted_average(x, p)\n",
    "    y_0 = weighted_average(y, p)\n",
    "\n",
    "    # Calculate cross covariance matrix\n",
    "    H = (y_0 - y).T @ ((x_0 - x) * p[:, None])\n",
    "\n",
    "    # Do SVD\n",
    "    U, _S, Vh = np.linalg.svd(H)    \n",
    "\n",
    "    # Calculate rotation matrix and translation vector\n",
    "    R = Vh.T @ U.T\n",
    "    t = y_0 - R @ x_0\n",
    "\n",
    "    return R, t"
   ]
  },
  {
   "cell_type": "code",
   "execution_count": 370,
   "metadata": {},
   "outputs": [
    {
     "name": "stdout",
     "output_type": "stream",
     "text": [
      "[[-0.33333333  0.66666667  0.66666667]\n",
      " [ 0.66666667 -0.33333333  0.66666667]\n",
      " [ 0.66666667  0.66666667 -0.33333333]] [ 1.00000000e+00 -1.33226763e-15  0.00000000e+00]\n"
     ]
    },
    {
     "data": {
      "image/png": "[encoded data removed]",
      "text/plain": [
       "<Figure size 432x288 with 1 Axes>"
      ]
     },
     "metadata": {
      "needs_background": "light"
     },
     "output_type": "display_data"
    }
   ],
   "source": [
    "x = np.array([[1, 1, 1], [2, 2, 2], [3, 3, 3], [4, 4, 4]])\n",
    "y = np.array([[2, 1, 1], [3, 2, 2], [4, 3, 3], [5, 4, 4]])\n",
    "\n",
    "R, t = ICP(x,y)\n",
    "print(R,t)\n",
    "x_tilde = (R @ x.T).T + t\n",
    "\n",
    "plt.scatter(x[:, 0], x[:, 1], label='x')\n",
    "plt.scatter(y[:, 0], y[:, 1], label ='y', alpha=0.3)\n",
    "plt.scatter(x_tilde[:, 0], x_tilde[:, 1], label=\"x_tilde\", alpha=0.3)\n",
    "plt.legend()\n",
    "plt.show()"
   ]
  },
  {
   "cell_type": "code",
   "execution_count": null,
   "metadata": {},
   "outputs": [],
   "source": [
    "import numpy as np\n",
    "\n",
    "def Exp(axis, angle):\n",
    "    \"\"\"\n",
    "    Compute a rotation matrix from an axis-angle representation.\n",
    "\n",
    "    Parameters:\n",
    "        axis: A 3-element array representing the axis of rotation.\n",
    "        angle: The angle of rotation in radians.\n",
    "\n",
    "    Returns:\n",
    "        A 3x3 rotation matrix representing the rotation.\n",
    "    \"\"\"\n",
    "    # Normalize the axis vector\n",
    "    axis = axis / np.linalg.norm(axis)\n",
    "\n",
    "    # Compute the components of the rotation matrix\n",
    "    c = np.cos(angle)\n",
    "    s = np.sin(angle)\n",
    "    t = 1 - c\n",
    "    x, y, z = axis\n",
    "\n",
    "    # Compute the rotation matrix\n",
    "    R = np.array([[t*x*x + c,    t*x*y - s*z,  t*x*z + s*y],\n",
    "                  [t*x*y + s*z,  t*y*y + c,    t*y*z - s*x],\n",
    "                  [t*x*z - s*y,  t*y*z + s*x,  t*z*z + c]])\n",
    "\n",
    "    return R"
   ]
  },
  {
   "cell_type": "code",
   "execution_count": null,
   "metadata": {},
   "outputs": [],
   "source": []
  },
  {
   "cell_type": "code",
   "execution_count": null,
   "metadata": {},
   "outputs": [],
   "source": []
  }
 ],
 "metadata": {
  "kernelspec": {
   "display_name": "ros_env",
   "language": "python",
   "name": "python3"
  },
  "language_info": {
   "codemirror_mode": {
    "name": "ipython",
    "version": 3
   },
   "file_extension": ".py",
   "mimetype": "text/x-python",
   "name": "python",
   "nbconvert_exporter": "python",
   "pygments_lexer": "ipython3",
   "version": "3.9.7"
  }
 },
 "nbformat": 4,
 "nbformat_minor": 2
}
